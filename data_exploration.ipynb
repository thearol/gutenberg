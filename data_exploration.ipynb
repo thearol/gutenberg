{
 "cells": [
  {
   "cell_type": "markdown",
   "metadata": {},
   "source": [
    "# Exploration of how to access this d*mn data"
   ]
  },
  {
   "cell_type": "code",
   "execution_count": 5,
   "metadata": {},
   "outputs": [],
   "source": [
    "import os\n",
    "from os.path import join\n",
    "import argparse\n",
    "import pandas as pd"
   ]
  },
  {
   "cell_type": "markdown",
   "metadata": {},
   "source": [
    "## get going"
   ]
  },
  {
   "cell_type": "code",
   "execution_count": 2,
   "metadata": {},
   "outputs": [
    {
     "data": {
      "text/plain": [
       "'/Users/thearolskovsloth/gutenberg.nosync'"
      ]
     },
     "execution_count": 2,
     "metadata": {},
     "output_type": "execute_result"
    }
   ],
   "source": [
    "os.getcwd()"
   ]
  },
  {
   "cell_type": "code",
   "execution_count": 11,
   "metadata": {},
   "outputs": [],
   "source": [
    "metadata = pd.read_csv(os.path.join(\"metadata\", \"metadata.csv\"))\n",
    "meta = pd.DataFrame(metadata)"
   ]
  },
  {
   "cell_type": "code",
   "execution_count": 21,
   "metadata": {},
   "outputs": [
    {
     "data": {
      "text/plain": [
       "list"
      ]
     },
     "execution_count": 21,
     "metadata": {},
     "output_type": "execute_result"
    }
   ],
   "source": [
    "meta.head(5)\n",
    "type([meta['language']])\n"
   ]
  },
  {
   "cell_type": "code",
   "execution_count": 18,
   "metadata": {},
   "outputs": [
    {
     "name": "stdout",
     "output_type": "stream",
     "text": [
      "['en']                54701\n",
      "['fr']                 3408\n",
      "['fi']                 2474\n",
      "['de']                 2020\n",
      "['it']                  909\n",
      "                      ...  \n",
      "['mi']                    1\n",
      "['de', 'ca']              1\n",
      "['en', 'myn']             1\n",
      "['en', 'tl', 'es']        1\n",
      "['en', 'ang']             1\n",
      "Name: language, Length: 130, dtype: int64\n",
      "number of diff languages: 130\n"
     ]
    }
   ],
   "source": [
    "different_languages = meta['language'].value_counts()\n",
    "print(different_languages)\n",
    "print(\"number of diff languages:\", len(different_languages))\n"
   ]
  },
  {
   "cell_type": "code",
   "execution_count": 31,
   "metadata": {},
   "outputs": [
    {
     "name": "stdout",
     "output_type": "stream",
     "text": [
      "['en']    54701\n",
      "Name: language, dtype: int64\n"
     ]
    },
    {
     "data": {
      "text/html": [
       "<div>\n",
       "<style scoped>\n",
       "    .dataframe tbody tr th:only-of-type {\n",
       "        vertical-align: middle;\n",
       "    }\n",
       "\n",
       "    .dataframe tbody tr th {\n",
       "        vertical-align: top;\n",
       "    }\n",
       "\n",
       "    .dataframe thead th {\n",
       "        text-align: right;\n",
       "    }\n",
       "</style>\n",
       "<table border=\"1\" class=\"dataframe\">\n",
       "  <thead>\n",
       "    <tr style=\"text-align: right;\">\n",
       "      <th></th>\n",
       "      <th>id</th>\n",
       "      <th>title</th>\n",
       "      <th>author</th>\n",
       "      <th>authoryearofbirth</th>\n",
       "      <th>authoryearofdeath</th>\n",
       "      <th>language</th>\n",
       "      <th>downloads</th>\n",
       "      <th>subjects</th>\n",
       "      <th>type</th>\n",
       "    </tr>\n",
       "  </thead>\n",
       "  <tbody>\n",
       "    <tr>\n",
       "      <th>67838</th>\n",
       "      <td>PG9997</td>\n",
       "      <td>France and England in North America, Part III:...</td>\n",
       "      <td>Parkman, Francis</td>\n",
       "      <td>1823.0</td>\n",
       "      <td>1893.0</td>\n",
       "      <td>['en']</td>\n",
       "      <td>17</td>\n",
       "      <td>{'Canada -- History -- To 1763 (New France)'}</td>\n",
       "      <td>NaN</td>\n",
       "    </tr>\n",
       "    <tr>\n",
       "      <th>67839</th>\n",
       "      <td>PG9998</td>\n",
       "      <td>Poems</td>\n",
       "      <td>Betham, Matilda</td>\n",
       "      <td>1776.0</td>\n",
       "      <td>1852.0</td>\n",
       "      <td>['en']</td>\n",
       "      <td>70</td>\n",
       "      <td>{'Poetry'}</td>\n",
       "      <td>NaN</td>\n",
       "    </tr>\n",
       "    <tr>\n",
       "      <th>67840</th>\n",
       "      <td>PG9999</td>\n",
       "      <td>Harriet, the Moses of Her People</td>\n",
       "      <td>Bradford, Sarah H. (Sarah Hopkins)</td>\n",
       "      <td>1818.0</td>\n",
       "      <td>NaN</td>\n",
       "      <td>['en']</td>\n",
       "      <td>85</td>\n",
       "      <td>{'Slaves -- United States -- Biography', 'Afri...</td>\n",
       "      <td>NaN</td>\n",
       "    </tr>\n",
       "    <tr>\n",
       "      <th>67842</th>\n",
       "      <td>PG99</td>\n",
       "      <td>Collected Articles of Frederick Douglass</td>\n",
       "      <td>Douglass, Frederick</td>\n",
       "      <td>1818.0</td>\n",
       "      <td>1895.0</td>\n",
       "      <td>['en']</td>\n",
       "      <td>178</td>\n",
       "      <td>{'African American abolitionists', 'Essays', '...</td>\n",
       "      <td>NaN</td>\n",
       "    </tr>\n",
       "    <tr>\n",
       "      <th>67843</th>\n",
       "      <td>PG9</td>\n",
       "      <td>Abraham Lincoln's First Inaugural Address</td>\n",
       "      <td>Lincoln, Abraham</td>\n",
       "      <td>1809.0</td>\n",
       "      <td>1865.0</td>\n",
       "      <td>['en']</td>\n",
       "      <td>157</td>\n",
       "      <td>{'United States -- Politics and government -- ...</td>\n",
       "      <td>NaN</td>\n",
       "    </tr>\n",
       "  </tbody>\n",
       "</table>\n",
       "</div>"
      ],
      "text/plain": [
       "           id                                              title  \\\n",
       "67838  PG9997  France and England in North America, Part III:...   \n",
       "67839  PG9998                                              Poems   \n",
       "67840  PG9999                   Harriet, the Moses of Her People   \n",
       "67842    PG99           Collected Articles of Frederick Douglass   \n",
       "67843     PG9          Abraham Lincoln's First Inaugural Address   \n",
       "\n",
       "                                   author  authoryearofbirth  \\\n",
       "67838                    Parkman, Francis             1823.0   \n",
       "67839                     Betham, Matilda             1776.0   \n",
       "67840  Bradford, Sarah H. (Sarah Hopkins)             1818.0   \n",
       "67842                 Douglass, Frederick             1818.0   \n",
       "67843                    Lincoln, Abraham             1809.0   \n",
       "\n",
       "       authoryearofdeath language  downloads  \\\n",
       "67838             1893.0   ['en']         17   \n",
       "67839             1852.0   ['en']         70   \n",
       "67840                NaN   ['en']         85   \n",
       "67842             1895.0   ['en']        178   \n",
       "67843             1865.0   ['en']        157   \n",
       "\n",
       "                                                subjects type  \n",
       "67838      {'Canada -- History -- To 1763 (New France)'}  NaN  \n",
       "67839                                         {'Poetry'}  NaN  \n",
       "67840  {'Slaves -- United States -- Biography', 'Afri...  NaN  \n",
       "67842  {'African American abolitionists', 'Essays', '...  NaN  \n",
       "67843  {'United States -- Politics and government -- ...  NaN  "
      ]
     },
     "execution_count": 31,
     "metadata": {},
     "output_type": "execute_result"
    }
   ],
   "source": [
    "#selecting only english texts\n",
    "eng_meta = meta.loc[meta['language'] == \"['en']\"]\n",
    "print(eng_meta['language'].value_counts())\n",
    "eng_meta.head(5)\n",
    "eng_meta.tail(5)\n"
   ]
  },
  {
   "cell_type": "code",
   "execution_count": null,
   "metadata": {},
   "outputs": [],
   "source": []
  }
 ],
 "metadata": {
  "interpreter": {
   "hash": "c5d759490535174562faddd971985103d728b6de5f33818b679b627dfbac3186"
  },
  "kernelspec": {
   "display_name": "Python 3.9.7 ('datascience')",
   "language": "python",
   "name": "python3"
  },
  "language_info": {
   "codemirror_mode": {
    "name": "ipython",
    "version": 3
   },
   "file_extension": ".py",
   "mimetype": "text/x-python",
   "name": "python",
   "nbconvert_exporter": "python",
   "pygments_lexer": "ipython3",
   "version": "3.9.7"
  },
  "orig_nbformat": 4
 },
 "nbformat": 4,
 "nbformat_minor": 2
}
